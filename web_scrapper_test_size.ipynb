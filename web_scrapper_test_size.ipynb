{
  "nbformat": 4,
  "nbformat_minor": 0,
  "metadata": {
    "colab": {
      "provenance": []
    },
    "kernelspec": {
      "name": "python3",
      "display_name": "Python 3"
    },
    "language_info": {
      "name": "python"
    }
  },
  "cells": [
    {
      "cell_type": "code",
      "execution_count": 43,
      "metadata": {
        "id": "MLHHxQMVujIR"
      },
      "outputs": [],
      "source": [
        "from bs4 import BeautifulSoup\n",
        "import requests\n",
        "import pandas as pd"
      ]
    },
    {
      "cell_type": "code",
      "source": [
        "url = 'https://webscraper.io/test-sites/e-commerce/allinone/computers/laptops'\n",
        "doc_html = requests.get(url).text"
      ],
      "metadata": {
        "id": "_tZ12egpuvsV"
      },
      "execution_count": 44,
      "outputs": []
    },
    {
      "cell_type": "code",
      "source": [
        "soup = BeautifulSoup(doc_html,'lxml')"
      ],
      "metadata": {
        "id": "9aO_i11JvchT"
      },
      "execution_count": 45,
      "outputs": []
    },
    {
      "cell_type": "code",
      "source": [
        "# print(soup.prettify())"
      ],
      "metadata": {
        "id": "TjBpEqiXvlgF"
      },
      "execution_count": 46,
      "outputs": []
    },
    {
      "cell_type": "code",
      "source": [
        "# print(soup.title.text)"
      ],
      "metadata": {
        "id": "UZIBaWO_vnts"
      },
      "execution_count": 47,
      "outputs": []
    },
    {
      "cell_type": "code",
      "source": [
        "# print(soup.body)"
      ],
      "metadata": {
        "id": "1rr4UMocvy0E"
      },
      "execution_count": 48,
      "outputs": []
    },
    {
      "cell_type": "code",
      "source": [
        "# div_attrs = soup.div\n",
        "# div_attrs = soup.header\n",
        "# print(div_attrs.attrs)"
      ],
      "metadata": {
        "id": "dHtLFTqvwQgV"
      },
      "execution_count": 49,
      "outputs": []
    },
    {
      "cell_type": "code",
      "source": [
        "# description = soup.find('p',class_='description card-text')\n",
        "# print(description)"
      ],
      "metadata": {
        "id": "PpkGEbF_wpMi"
      },
      "execution_count": 50,
      "outputs": []
    },
    {
      "cell_type": "code",
      "source": [
        "des_list = list()\n",
        "for description in soup.find_all('p',class_='description card-text'):\n",
        "  des_list.append(description.text)"
      ],
      "metadata": {
        "id": "fn128UD61UCj"
      },
      "execution_count": 51,
      "outputs": []
    },
    {
      "cell_type": "code",
      "source": [
        "pr_list = list()\n",
        "for price in soup.find_all('h4',class_='float-end price card-title pull-right'):\n",
        "  pr_list.append(price.text)"
      ],
      "metadata": {
        "id": "2pe7Wzb22Vdi"
      },
      "execution_count": 52,
      "outputs": []
    },
    {
      "cell_type": "code",
      "source": [
        "title_list = list()\n",
        "for title in soup.find_all('a',class_='title'):\n",
        "  title_list.append(title.text)"
      ],
      "metadata": {
        "id": "IeLfQiF54sdg"
      },
      "execution_count": 53,
      "outputs": []
    },
    {
      "cell_type": "code",
      "source": [
        "# rating_list = list()\n",
        "# for rating in soup.find_all('a',class_='title'):\n",
        "#   rating_list.append(title.text)"
      ],
      "metadata": {
        "id": "MxooLOTCE75r"
      },
      "execution_count": 54,
      "outputs": []
    },
    {
      "cell_type": "code",
      "source": [
        "df = pd.DataFrame({'Names':title_list, 'Descriptions':des_list, 'Price':pr_list})\n",
        "df.to_csv('/content/laptops_data.csv')"
      ],
      "metadata": {
        "id": "kmqjZx38GhqL"
      },
      "execution_count": 55,
      "outputs": []
    },
    {
      "cell_type": "code",
      "source": [],
      "metadata": {
        "id": "9iNOinC3H0Kf"
      },
      "execution_count": null,
      "outputs": []
    }
  ]
}